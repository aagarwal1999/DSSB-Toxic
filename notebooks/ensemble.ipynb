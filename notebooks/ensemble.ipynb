{
 "cells": [
  {
   "cell_type": "markdown",
   "metadata": {
    "_cell_guid": "d1aed5c1-2284-4aa0-9bdd-8b3a87f10455",
    "_uuid": "6c82c5ade1ea2ebe3115b7acdbcb5eb01b8dc604"
   },
   "source": [
    "## Introduction"
   ]
  },
  {
   "cell_type": "markdown",
   "metadata": {
    "_cell_guid": "5a738023-69cc-4acc-a92b-53c338dd1ab3",
    "_uuid": "c8b9bb50ea3e069843370be618e835cd53a2dc5e"
   },
   "source": [
    "There are two very different strong baselines currently in the kernels for this competition:\n",
    "    \n",
    "- An *LSTM* model, which uses a recurrent neural network to model state across each text, with no feature engineering\n",
    "- An *NB-SVM* inspired model, which uses a simple linear approach on top of naive bayes features\n",
    "\n",
    "In theory, an ensemble works best when the individual models are as different as possible. Therefore, we should see that even a simple average of these two models gets a good result. Let's try it! First, we'll load the outputs of the models (in the Kaggle Kernels environment you can add these as input files directly from the UI; otherwise you'll need to download them first)."
   ]
  },
  {
   "cell_type": "code",
   "execution_count": 8,
   "metadata": {
    "_cell_guid": "4f49e4ea-a226-4d61-921b-db33c41453a8",
    "_uuid": "d3acc5945691f3ac94b41a99efd00d2f794b28d9",
    "collapsed": true
   },
   "outputs": [],
   "source": [
    "import numpy as np, pandas as pd\n",
    "\n",
    "f0 = '../input/submission0.csv'\n",
    "f1 = '../input/submission1.csv'\n",
    "f2 = '../input/submission2.csv'\n",
    "f3 = '../input/submission3.csv'\n",
    "f4 = '../input/submission4.csv'\n",
    "f5 = '../input/submission5.csv'\n",
    "\n",
    "f_dssb = 'submission.csv'"
   ]
  },
  {
   "cell_type": "code",
   "execution_count": 9,
   "metadata": {
    "_cell_guid": "55a8085b-7a52-4c20-975d-4f6fe0dc7202",
    "_uuid": "12511977319d644ed8a07af913b0f8e00b14f22f",
    "collapsed": false
   },
   "outputs": [],
   "source": [
    "p0 = pd.read_csv(f0)\n",
    "p1 = pd.read_csv(f1)\n",
    "p2 = pd.read_csv(f2)\n",
    "p3 = pd.read_csv(f3)\n",
    "p4 = pd.read_csv(f4)\n",
    "p5 = pd.read_csv(f5)\n",
    "p_dssb = pd.read_csv(f_dssb)\n"
   ]
  },
  {
   "cell_type": "markdown",
   "metadata": {
    "_cell_guid": "74113048-4055-4ead-98b8-a003b6b075bd",
    "_uuid": "756837877eacd2ab5312623640c66e156a75c1fe"
   },
   "source": [
    "Now we can take the average of the label columns."
   ]
  },
  {
   "cell_type": "code",
   "execution_count": 10,
   "metadata": {
    "_cell_guid": "c736d49f-de3b-46f5-b4c3-04a26ac98d31",
    "_uuid": "d3a16c6bb660eb600e68c11c03bd2d841b7515f4",
    "collapsed": false
   },
   "outputs": [],
   "source": [
    "label_cols = ['toxic', 'severe_toxic', 'obscene', 'threat', 'insult', 'identity_hate']\n",
    "p_res = p0.copy()\n",
    "# p_res[label_cols] = (p0[label_cols] + p1[label_cols] + p2[label_cols] + p3[label_cols] + p4[label_cols] + p5[label_cols]) / 6\n",
    "p_res[label_cols] = (p0[label_cols] + p1[label_cols] + p2[label_cols] + p3[label_cols] + p4[label_cols] + p5[label_cols] + p_dssb[label_cols]) / 7"
   ]
  },
  {
   "cell_type": "markdown",
   "metadata": {
    "_cell_guid": "d4359384-5657-4660-8fd9-6b395bb7c2a6",
    "_uuid": "807d5f936cc49ccff2e4edc28287be06b008beb1"
   },
   "source": [
    "And finally, create our CSV."
   ]
  },
  {
   "cell_type": "code",
   "execution_count": 11,
   "metadata": {
    "_cell_guid": "5f73aafe-81a9-4149-b879-717fee5f1814",
    "_uuid": "30905be21b812c74c8bb1e3469134b226cbcfc78",
    "collapsed": true
   },
   "outputs": [],
   "source": [
    "p_res.to_csv('blend_submission.csv', index=False)"
   ]
  },
  {
   "cell_type": "markdown",
   "metadata": {
    "_cell_guid": "d66ecdcc-6339-48d5-94ad-519187078972",
    "_uuid": "648c18c7829885667bbb79a4ed95b82cb5cc620d"
   },
   "source": [
    "As we hoped, when we submit this to Kaggle, we get a great result - much better than the individual scores of the kernels we based off. This is currently the best Kaggle kernel submission that runs within the kernels sandbox!"
   ]
  },
  {
   "cell_type": "code",
   "execution_count": null,
   "metadata": {
    "_cell_guid": "b7d8792d-30ab-404b-8dc6-c7bdff9f6689",
    "_uuid": "80a0e88a262fcc70d89fc2a8a4c9c061a7dad4e3",
    "collapsed": true
   },
   "outputs": [],
   "source": []
  }
 ],
 "metadata": {
  "kernelspec": {
   "display_name": "Python 3",
   "language": "python",
   "name": "python3"
  },
  "language_info": {
   "codemirror_mode": {
    "name": "ipython",
    "version": 3
   },
   "file_extension": ".py",
   "mimetype": "text/x-python",
   "name": "python",
   "nbconvert_exporter": "python",
   "pygments_lexer": "ipython3",
   "version": "3.6.4"
  }
 },
 "nbformat": 4,
 "nbformat_minor": 1
}
