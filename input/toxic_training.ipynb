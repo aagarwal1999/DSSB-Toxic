{
 "cells": [
  {
   "cell_type": "code",
   "execution_count": 2,
   "metadata": {},
   "outputs": [
    {
     "name": "stdout",
     "output_type": "stream",
     "text": [
      "[nltk_data] Downloading package stopwords to\n",
      "[nltk_data]     /Users/rdufogsa/nltk_data...\n",
      "[nltk_data]   Package stopwords is already up-to-date!\n",
      "[nltk_data] Downloading package punkt to /Users/rdufogsa/nltk_data...\n",
      "[nltk_data]   Package punkt is already up-to-date!\n",
      "[nltk_data] Downloading package words to /Users/rdufogsa/nltk_data...\n",
      "[nltk_data]   Package words is already up-to-date!\n",
      "[nltk_data] Downloading package wordnet to\n",
      "[nltk_data]     /Users/rdufogsa/nltk_data...\n",
      "[nltk_data]   Package wordnet is already up-to-date!\n",
      "[nltk_data] Downloading package averaged_perceptron_tagger to\n",
      "[nltk_data]     /Users/rdufogsa/nltk_data...\n",
      "[nltk_data]   Package averaged_perceptron_tagger is already up-to-\n",
      "[nltk_data]       date!\n",
      "[nltk_data] Downloading package movie_reviews to\n",
      "[nltk_data]     /Users/rdufogsa/nltk_data...\n",
      "[nltk_data]   Package movie_reviews is already up-to-date!\n"
     ]
    },
    {
     "data": {
      "text/plain": [
       "True"
      ]
     },
     "execution_count": 2,
     "metadata": {},
     "output_type": "execute_result"
    }
   ],
   "source": [
    "import sys, os, re, csv, codecs \n",
    "import numpy as np \n",
    "import pandas as pd \n",
    "import matplotlib.pyplot as plt, seaborn as sns\n",
    "import string\n",
    "import nltk\n",
    "from nltk import word_tokenize\n",
    "from nltk.stem.wordnet import WordNetLemmatizer \n",
    "from nltk.corpus import stopwords \n",
    "eng_stopwords = set(stopwords.words(\"english\"))\n",
    "from nltk.tokenize import TweetTokenizer\n",
    "tokenizer = TweetTokenizer()\n",
    "nltk.download('stopwords')\n",
    "nltk.download(\"punkt\")\n",
    "nltk.download(\"words\")\n",
    "from collections import Counter\n",
    "from sklearn.feature_extraction.text import TfidfVectorizer, CountVectorizer, HashingVectorizer\n",
    "#from autocorrect import spell\n",
    "lem = WordNetLemmatizer()\n",
    "nltk.download('wordnet')\n",
    "from nltk.corpus import words\n",
    "word_list = words.words()\n",
    "import json\n",
    "with open('../input/words.json') as json_data:\n",
    "    profane_words = json.load(json_data)\n",
    "    \n",
    "#need to git clone https://github.com/zacanger/profane-words\n",
    "from vaderSentiment.vaderSentiment import SentimentIntensityAnalyzer\n",
    "sent_analyzer = SentimentIntensityAnalyzer()\n",
    "#from textblob import TextBlob\n",
    "#from textblob.sentiments import NaiveBayesAnalyzer\n",
    "nltk.download('averaged_perceptron_tagger')\n",
    "nltk.download('movie_reviews')"
   ]
  },
  {
   "cell_type": "code",
   "execution_count": 3,
   "metadata": {
    "collapsed": true
   },
   "outputs": [],
   "source": [
    "path = \"../input/\"\n",
    "embedding_file = f'{path}glove.6B.50d.txt'\n",
    "train_file = f'{path}train.csv'\n",
    "test_file = f'{path}test.csv'"
   ]
  },
  {
   "cell_type": "code",
   "execution_count": 4,
   "metadata": {},
   "outputs": [
    {
     "data": {
      "text/plain": [
       "(159571, 8)"
      ]
     },
     "execution_count": 4,
     "metadata": {},
     "output_type": "execute_result"
    }
   ],
   "source": [
    "train = pd.read_csv(train_file)\n",
    "test = pd.read_csv(test_file)\n",
    "train[\"comment_text\"].fillna(\"unknown\", inplace = True)\n",
    "test[\"comment_text\"].fillna(\"unknown\", inplace = True)\n",
    "train.shape"
   ]
  },
  {
   "cell_type": "code",
   "execution_count": 5,
   "metadata": {
    "collapsed": true
   },
   "outputs": [],
   "source": [
    "text = pd.DataFrame(train[\"comment_text\"])\n",
    "toxic = pd.DataFrame(train[\"toxic\"])\n",
    "severe_toxic = pd.DataFrame(train[\"severe_toxic\"])\n",
    "obscene_toxic = pd.DataFrame(train[\"obscene\"])\n",
    "threat = pd.DataFrame(train[\"obscene\"])\n",
    "insult = pd.DataFrame(train[\"insult\"])\n",
    "identity_hate = pd.DataFrame(train[\"identity_hate\"])\n",
    "#text.head()\n"
   ]
  },
  {
   "cell_type": "code",
   "execution_count": 6,
   "metadata": {
    "collapsed": true,
    "scrolled": true
   },
   "outputs": [],
   "source": [
    "test = test.fillna(\"\")"
   ]
  },
  {
   "cell_type": "code",
   "execution_count": 7,
   "metadata": {
    "collapsed": true
   },
   "outputs": [],
   "source": [
    "labeled = train[(train[\"toxic\"] != 0) | (train[\"severe_toxic\"] != 0) | \n",
    "              (train[\"obscene\"] != 0) | (train[\"threat\"] != 0) | \n",
    "              (train[\"insult\"] != 0) | (train[\"identity_hate\"] != 0)]"
   ]
  },
  {
   "cell_type": "markdown",
   "metadata": {},
   "source": [
    "\n",
    "### Comment Cleaning "
   ]
  },
  {
   "cell_type": "code",
   "execution_count": 8,
   "metadata": {
    "collapsed": true
   },
   "outputs": [],
   "source": [
    "APPO = {\"ain't\": \"is not\", \"aren't\": \"are not\",\"can't\": \"cannot\", \n",
    "                   \"can't've\": \"cannot have\", \"'cause\": \"because\", \"could've\": \"could have\", \n",
    "                   \"couldn't\": \"could not\", \"couldn't've\": \"could not have\",\"didn't\": \"did not\", \n",
    "                   \"doesn't\": \"does not\", \"don't\": \"do not\", \"hadn't\": \"had not\", \n",
    "                   \"hadn't've\": \"had not have\", \"hasn't\": \"has not\", \"haven't\": \"have not\", \n",
    "                   \"he'd\": \"he would\", \"he'd've\": \"he would have\", \"he'll\": \"he will\", \n",
    "                   \"he'll've\": \"he he will have\", \"he's\": \"he is\", \"how'd\": \"how did\", \n",
    "                   \"how'd'y\": \"how do you\", \"how'll\": \"how will\", \"how's\": \"how is\", \n",
    "                   \"I'd\": \"I would\", \"I'd've\": \"I would have\", \"I'll\": \"I will\", \n",
    "                   \"I'll've\": \"I will have\",\"I'm\": \"I am\", \"I've\": \"I have\", \n",
    "                   \"i'd\": \"i would\", \"i'd've\": \"i would have\", \"i'll\": \"i will\", \n",
    "                   \"i'll've\": \"i will have\",\"i'm\": \"i am\", \"i've\": \"i have\", \n",
    "                   \"isn't\": \"is not\", \"it'd\": \"it would\", \"it'd've\": \"it would have\", \n",
    "                   \"it'll\": \"it will\", \"it'll've\": \"it will have\",\"it's\": \"it is\", \n",
    "                   \"let's\": \"let us\", \"ma'am\": \"madam\", \"mayn't\": \"may not\", \n",
    "                   \"might've\": \"might have\",\"mightn't\": \"might not\",\"mightn't've\": \"might not have\", \n",
    "                   \"must've\": \"must have\", \"mustn't\": \"must not\", \"mustn't've\": \"must not have\", \n",
    "                   \"needn't\": \"need not\", \"needn't've\": \"need not have\",\"o'clock\": \"of the clock\", \n",
    "                   \"oughtn't\": \"ought not\", \"oughtn't've\": \"ought not have\", \"shan't\": \"shall not\",\n",
    "                   \"sha'n't\": \"shall not\", \"shan't've\": \"shall not have\", \"she'd\": \"she would\", \n",
    "                   \"she'd've\": \"she would have\", \"she'll\": \"she will\", \"she'll've\": \"she will have\", \n",
    "                   \"she's\": \"she is\", \"should've\": \"should have\", \"shouldn't\": \"should not\", \n",
    "                   \"shouldn't've\": \"should not have\", \"so've\": \"so have\",\"so's\": \"so as\", \n",
    "                   \"this's\": \"this is\",\n",
    "                   \"that'd\": \"that would\", \"that'd've\": \"that would have\",\"that's\": \"that is\", \n",
    "                   \"there'd\": \"there would\", \"there'd've\": \"there would have\",\"there's\": \"there is\", \n",
    "                   \"they'd\": \"they would\", \"they'd've\": \"they would have\", \"they'll\": \"they will\", \n",
    "                   \"they'll've\": \"they will have\", \"they're\": \"they are\", \"they've\": \"they have\", \n",
    "                   \"to've\": \"to have\", \"wasn't\": \"was not\", \"we'd\": \"we would\", \n",
    "                   \"we'd've\": \"we would have\", \"we'll\": \"we will\", \"we'll've\": \"we will have\", \n",
    "                   \"we're\": \"we are\", \"we've\": \"we have\", \"weren't\": \"were not\", \n",
    "                   \"what'll\": \"what will\", \"what'll've\": \"what will have\", \"what're\": \"what are\", \n",
    "                   \"what's\": \"what is\", \"what've\": \"what have\", \"when's\": \"when is\", \n",
    "                   \"when've\": \"when have\", \"where'd\": \"where did\", \"where's\": \"where is\", \n",
    "                   \"where've\": \"where have\", \"who'll\": \"who will\", \"who'll've\": \"who will have\", \n",
    "                   \"who's\": \"who is\", \"who've\": \"who have\", \"why's\": \"why is\", \n",
    "                   \"why've\": \"why have\", \"will've\": \"will have\", \"won't\": \"will not\", \n",
    "                   \"won't've\": \"will not have\", \"would've\": \"would have\", \"wouldn't\": \"would not\", \n",
    "                   \"wouldn't've\": \"would not have\", \"y'all\": \"you all\", \"y'all'd\": \"you all would\",\n",
    "                   \"y'all'd've\": \"you all would have\",\"y'all're\": \"you all are\",\"y'all've\": \"you all have\",\n",
    "                   \"you'd\": \"you would\", \"you'd've\": \"you would have\", \"you'll\": \"you will\", \n",
    "                   \"you'll've\": \"you will have\", \"you're\": \"you are\", \"you've\": \"you have\" }\n"
   ]
  },
  {
   "cell_type": "markdown",
   "metadata": {},
   "source": [
    "### Test"
   ]
  },
  {
   "cell_type": "code",
   "execution_count": null,
   "metadata": {
    "collapsed": true
   },
   "outputs": [],
   "source": [
    "polarity = test[\"comment_text\"].apply(lambda x: sent_analyzer.polarity_scores(x))\n",
    "#negative polarity percentage of the text\n",
    "test[\"neg_polarity\"] = polarity.apply(lambda x: x[\"neg\"])\n",
    "#neutral polarity percentage \n",
    "test[\"neutral_polarity\"] = polarity.apply(lambda x: x[\"neu\"])\n",
    "#positive polarity percentage\n",
    "test[\"positive_polarity\"] = polarity.apply(lambda x: x[\"pos\"])\n",
    "#sum of sentimental ratings\n",
    "test[\"compound_polarity\"] = polarity.apply(lambda x: x[\"compound\"])"
   ]
  },
  {
   "cell_type": "code",
   "execution_count": null,
   "metadata": {
    "scrolled": true
   },
   "outputs": [],
   "source": [
    "#Number of sentences\n",
    "test[\"count_sent\"] = test[\"comment_text\"].apply(lambda x: len(re.findall(\"\\n\", str(x))) + 1)\n",
    "#number of words\n",
    "test[\"count_word\"] = test[\"comment_text\"].apply(lambda x: len(str(x).split()))\n",
    "#number of unique words\n",
    "test[\"count_unique_word\"] = test[\"comment_text\"].apply(lambda x: len(set(str(x).split())))\n",
    "#number of characters\n",
    "test[\"count_char\"] = test[\"comment_text\"].apply(lambda x: len(str(x)))\n",
    "#number of punctuations\n",
    "test[\"count_punctuations\"] = test[\"comment_text\"].apply(lambda x: len([c for c in str(x) if c in string.punctuation]))#number of uppercase letters\n",
    "#number of uppercase letters\n",
    "test[\"count_words_upper\"] = test[\"comment_text\"].apply(lambda x: len([w for w in str(x).split() if w.isupper()]))\n",
    "#number of titles\n",
    "test[\"count_words_title\"] = test[\"comment_text\"].apply(lambda x: len([w for w in str(x).split() if w.istitle()]))\n",
    "#number of useless words\n",
    "test[\"count_stopwords\"] = test[\"comment_text\"].apply(lambda x: len([w for w in str(x).lower().split() if w in eng_stopwords]))\n",
    "#mean length of words \n",
    "test[\"mean_word_len\"] = test[\"comment_text\"].apply(lambda x: np.mean([len(w) for w in str(x).split()]))\n",
    "#unique word percent\n",
    "test['word_unique_percent']=test['count_unique_word']*100/test['count_word']\n",
    "#punctuation percent\n",
    "test['punct_percent']=test['count_punctuations']*100/test['count_word']\n",
    "#train[\"cleaned\"] = train[\"comment_text\"].apply(lambda x: clean(x))\n"
   ]
  },
  {
   "cell_type": "code",
   "execution_count": null,
   "metadata": {},
   "outputs": [],
   "source": [
    "test.head()"
   ]
  },
  {
   "cell_type": "markdown",
   "metadata": {},
   "source": [
    "### Cleaned"
   ]
  },
  {
   "cell_type": "code",
   "execution_count": null,
   "metadata": {
    "collapsed": true
   },
   "outputs": [],
   "source": [
    "def misspelled_and_swears(comment):\n",
    "    words = nltk.word_tokenize(comment)\n",
    "    swear_counts = sum([words[i] in profane_words for i in range(len(words))])\n",
    "    misspelled_prop = 1 - sum([words[i] in word_list for i in range(len(words))])/len(words)\n",
    "    return [misspelled_prop, 1 if swear_counts > 0 else 0, swear_counts]"
   ]
  },
  {
   "cell_type": "code",
   "execution_count": 10,
   "metadata": {},
   "outputs": [
    {
     "data": {
      "text/plain": [
       "153164"
      ]
     },
     "execution_count": 10,
     "metadata": {},
     "output_type": "execute_result"
    }
   ],
   "source": [
    "len(test)"
   ]
  },
  {
   "cell_type": "code",
   "execution_count": 12,
   "metadata": {},
   "outputs": [
    {
     "ename": "SyntaxError",
     "evalue": "invalid syntax (<ipython-input-12-0af54c467f2d>, line 1)",
     "output_type": "error",
     "traceback": [
      "\u001b[0;36m  File \u001b[0;32m\"<ipython-input-12-0af54c467f2d>\"\u001b[0;36m, line \u001b[0;32m1\u001b[0m\n\u001b[0;31m    misspelled_profane = test[\"comment_text\"].iloc[].apply(lambda x: misspelled_and_swears(x))\u001b[0m\n\u001b[0m                                                   ^\u001b[0m\n\u001b[0;31mSyntaxError\u001b[0m\u001b[0;31m:\u001b[0m invalid syntax\n"
     ]
    }
   ],
   "source": [
    "misspelled_profane = test[\"comment_text\"].iloc[].apply(lambda x: misspelled_and_swears(x))\n",
    "#feel free to run the rows "
   ]
  },
  {
   "cell_type": "code",
   "execution_count": null,
   "metadata": {
    "collapsed": true
   },
   "outputs": [],
   "source": [
    "test = misspelled_profane.to_csv(\"comment_and_features_test.csv\")"
   ]
  },
  {
   "cell_type": "code",
   "execution_count": 118,
   "metadata": {},
   "outputs": [
    {
     "data": {
      "text/plain": [
       "0       [0.308641975308642, 1, 5]\n",
       "1                     [0.5, 0, 0]\n",
       "2      [0.8333333333333334, 0, 0]\n",
       "3     [0.20454545454545459, 0, 0]\n",
       "4     [0.33333333333333337, 0, 0]\n",
       "5     [0.16666666666666663, 0, 0]\n",
       "6      [0.3529411764705882, 0, 0]\n",
       "7                   [0.375, 0, 0]\n",
       "8      [0.4201680672268907, 1, 1]\n",
       "9       [0.326530612244898, 0, 0]\n",
       "10                   [0.24, 1, 1]\n",
       "11     [0.4838709677419355, 1, 1]\n",
       "12    [0.49230769230769234, 0, 0]\n",
       "13                    [0.5, 0, 0]\n",
       "14      [0.352112676056338, 0, 0]\n",
       "15     [0.3157894736842105, 0, 0]\n",
       "16    [0.19999999999999996, 0, 0]\n",
       "17                [0.40625, 0, 0]\n",
       "18    [0.30666666666666664, 0, 0]\n",
       "19                  [0.875, 0, 0]\n",
       "20    [0.33333333333333337, 0, 0]\n",
       "21     [0.4545454545454546, 1, 1]\n",
       "22     [0.3913043478260869, 0, 0]\n",
       "23    [0.24444444444444446, 0, 0]\n",
       "24    [0.22857142857142854, 1, 1]\n",
       "25    [0.36871508379888274, 0, 0]\n",
       "26     [0.4516129032258065, 0, 0]\n",
       "27    [0.38888888888888884, 0, 0]\n",
       "28    [0.22499999999999998, 0, 0]\n",
       "29    [0.23076923076923073, 0, 0]\n",
       "                 ...             \n",
       "70     [0.5384615384615384, 1, 2]\n",
       "71    [0.32499999999999996, 1, 1]\n",
       "72    [0.33333333333333337, 0, 0]\n",
       "73    [0.46153846153846156, 0, 0]\n",
       "74     [0.5405405405405406, 0, 0]\n",
       "75     [0.4571428571428572, 0, 0]\n",
       "76    [0.38888888888888884, 1, 1]\n",
       "77    [0.45833333333333337, 0, 0]\n",
       "78     [0.1428571428571429, 1, 1]\n",
       "79                    [1.0, 0, 0]\n",
       "80    [0.39639639639639634, 0, 0]\n",
       "81     [0.4444444444444444, 0, 0]\n",
       "82     [0.6111111111111112, 0, 0]\n",
       "83     [0.3087248322147651, 0, 0]\n",
       "84    [0.22535211267605637, 0, 0]\n",
       "85    [0.45238095238095233, 0, 0]\n",
       "86     [0.3236363636363636, 1, 1]\n",
       "87     [0.3582474226804123, 0, 0]\n",
       "88     [0.3650793650793651, 0, 0]\n",
       "89     [0.2558139534883721, 0, 0]\n",
       "90     [0.7222222222222222, 0, 0]\n",
       "91    [0.35443037974683544, 0, 0]\n",
       "92     [0.6666666666666667, 1, 2]\n",
       "93    [0.22680412371134018, 0, 0]\n",
       "94    [0.31999999999999995, 0, 0]\n",
       "95                [0.34375, 0, 0]\n",
       "96    [0.31698113207547174, 1, 4]\n",
       "97     [0.5161290322580645, 0, 0]\n",
       "98     [0.4871794871794872, 0, 0]\n",
       "99                    [0.5, 1, 2]\n",
       "Name: comment_text, Length: 100, dtype: object"
      ]
     },
     "execution_count": 118,
     "metadata": {},
     "output_type": "execute_result"
    }
   ],
   "source": []
  },
  {
   "cell_type": "code",
   "execution_count": null,
   "metadata": {
    "collapsed": true
   },
   "outputs": [],
   "source": []
  }
 ],
 "metadata": {
  "kernelspec": {
   "display_name": "Python 3",
   "language": "python",
   "name": "python3"
  },
  "language_info": {
   "codemirror_mode": {
    "name": "ipython",
    "version": 3
   },
   "file_extension": ".py",
   "mimetype": "text/x-python",
   "name": "python",
   "nbconvert_exporter": "python",
   "pygments_lexer": "ipython3",
   "version": "3.6.3"
  }
 },
 "nbformat": 4,
 "nbformat_minor": 2
}
